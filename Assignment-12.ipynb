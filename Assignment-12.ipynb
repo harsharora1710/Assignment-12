{
 "cells": [
  {
   "cell_type": "code",
   "execution_count": 2,
   "id": "b0758d72-a79b-4e43-b841-7d5f7a6053af",
   "metadata": {},
   "outputs": [],
   "source": [
    "#q1)\n",
    "#A database is a structured collection of data. \n",
    "#SQL databases are based on the relational model, have rigid schemas, and prioritize strong consistency. \n",
    "#NoSQL databases support flexible schemas, prioritize scalability and performance, and sacrifice strict consistency for availability and partition tolerance."
   ]
  },
  {
   "cell_type": "code",
   "execution_count": 3,
   "id": "4746b7b8-7c60-4a99-a1a3-b0a04a9331f0",
   "metadata": {},
   "outputs": [],
   "source": [
    "#q2)\n",
    "#DDL (Data Definition Language) is a subset of SQL used to define and manage database structures.\n",
    "#CREATE statement is used to create new objects like tables, indexes, views, or procedures. For example: CREATE TABLE Customers (ID INT, Name VARCHAR(50), Email VARCHAR(100)); creates a table named \"Customers\" with columns for ID, name, and email.\n",
    "#DROP statement is used to delete or remove existing objects. For example: DROP TABLE IF EXISTS Customers; drops the table \"Customers\" if it exists.\n",
    "#ALTER statement is used to modify the structure of an existing object. For example: ALTER TABLE Customers ADD Address VARCHAR(200); adds a new column \"Address\" to the \"Customers\" table.\n",
    "#TRUNCATE statement is used to delete all data from a table while keeping its structure intact. For example: TRUNCATE TABLE Customers; deletes all data from the \"Customers\" table."
   ]
  },
  {
   "cell_type": "code",
   "execution_count": 4,
   "id": "a7694358-1c28-4bb0-809a-e9b2219dc4c6",
   "metadata": {},
   "outputs": [],
   "source": [
    "#q3)\n",
    "#DML (Data Manipulation Language) is a subset of SQL used to manipulate and retrieve data within a database.\n",
    "#INSERT statement is used to add new rows of data into a table.\n",
    "#Example: INSERT INTO Customers (ID, Name, Email) VALUES (1, 'John Doe', 'john@example.com');\n",
    "#UPDATE statement is used to modify existing data within a table.\n",
    "#Example: UPDATE Customers SET Email = 'johndoe@example.com' WHERE ID = 1;\n",
    "#DELETE statement is used to remove rows of data from a table.\n",
    "#Example: DELETE FROM Customers WHERE ID = 1."
   ]
  },
  {
   "cell_type": "code",
   "execution_count": 5,
   "id": "635c91a3-bfe9-48ca-b149-ccf559cec722",
   "metadata": {},
   "outputs": [],
   "source": [
    "#q4)\n",
    "#DQL (Data Query Language) is a subset of SQL used to retrieve data from a database.\n",
    "#SELECT statement is used to retrieve specific columns or data from one or more tables.\n",
    "#Example: SELECT Name, Email FROM Customers;\n",
    "#Additional clauses can be used with SELECT:\n",
    "#WHERE filters the rows based on specific conditions.\n",
    "#ORDER BY sorts the retrieved data based on one or more columns.\n",
    "#LIMIT limits the number of rows returned by the SELECT statement.\n",
    "#The SELECT statement with its clauses allows users to query and retrieve specific data from a database, apply filtering conditions, sort the results, and limit the number of rows returned."
   ]
  },
  {
   "cell_type": "code",
   "execution_count": 6,
   "id": "d7af8e50-6ef7-42d8-8e9f-d599363a2599",
   "metadata": {},
   "outputs": [],
   "source": [
    "#q5)\n",
    "#Primary Key: A primary key is a unique identifier for a row in a database table, ensuring its uniqueness and providing a way to uniquely identify each record.\n",
    "#Foreign Key: A foreign key is a field in one table that refers to the primary key in another table, establishing a relationship between the two tables and enforcing referential integrity."
   ]
  },
  {
   "cell_type": "code",
   "execution_count": 9,
   "id": "0ec4bd98-c663-471a-8859-e01d5d157d11",
   "metadata": {},
   "outputs": [],
   "source": [
    "#q6)\n",
    "import mysql.connector\n",
    "mydb = mysql.connector.connect(\n",
    "  host=\"localhost\",\n",
    "  user=\"abc\",\n",
    "  password=\"password\"\n",
    ")\n",
    "mycursor = mydb.cursor()\n",
    "mycursor.execute(\"SELECT * FROM TEST.TEST_TABLE\");\n",
    "\n"
   ]
  },
  {
   "cell_type": "code",
   "execution_count": null,
   "id": "646e91ce-9f57-427e-93b5-702f6c22067b",
   "metadata": {},
   "outputs": [],
   "source": []
  }
 ],
 "metadata": {
  "kernelspec": {
   "display_name": "Python 3 (ipykernel)",
   "language": "python",
   "name": "python3"
  },
  "language_info": {
   "codemirror_mode": {
    "name": "ipython",
    "version": 3
   },
   "file_extension": ".py",
   "mimetype": "text/x-python",
   "name": "python",
   "nbconvert_exporter": "python",
   "pygments_lexer": "ipython3",
   "version": "3.10.8"
  }
 },
 "nbformat": 4,
 "nbformat_minor": 5
}
